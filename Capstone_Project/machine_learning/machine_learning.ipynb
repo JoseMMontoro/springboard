{
 "cells": [
  {
   "cell_type": "code",
   "execution_count": 2,
   "metadata": {},
   "outputs": [],
   "source": [
    "import pandas as pd\n",
    "import numpy as np\n",
    "\n",
    "house = pd.read_csv(\"/Users/josemontoro/data/personal/springboard/Capstone/house_prices/house-prices-advanced-regression-techniques/train.csv\")\n",
    "\n",
    "\n",
    "# Set ipython's max row display\n",
    "pd.set_option('display.max_row', 1000)\n",
    "\n",
    "# Set iPython's max column width to 100\n",
    "pd.set_option('display.max_columns', 100)"
   ]
  },
  {
   "cell_type": "code",
   "execution_count": 3,
   "metadata": {},
   "outputs": [],
   "source": [
    "# For the rows that have true missing values (MCAR), in Electrical, BsmtFinType2, BsmtExposure, we'll input the most common values\n",
    "\n",
    "house.at[1379,'Electrical'] = 'SBrkr'\n",
    "house.at[332, 'BsmtFinType2'] = 'Unf'\n",
    "house.loc[948, 'BsmtExposure'] = 'Av'\n"
   ]
  },
  {
   "cell_type": "code",
   "execution_count": 4,
   "metadata": {},
   "outputs": [],
   "source": [
    "## Converting the identified missing values as necessary\n",
    "\n",
    "# Converting numerical missing values to 0\n",
    "filled = house.copy(deep=True)\n",
    "filled[['LotFrontage', 'MasVnrArea']] = filled[['LotFrontage', 'MasVnrArea']].fillna(value=0)\n"
   ]
  },
  {
   "cell_type": "code",
   "execution_count": 5,
   "metadata": {},
   "outputs": [],
   "source": [
    "# Converting the text missing values to 'None'\n",
    "\n",
    "cols = ['PoolQC',\n",
    "'MiscFeature',\n",
    "'Alley',\n",
    "'Fence',\n",
    "'FireplaceQu',\n",
    "'GarageCond',\n",
    "'GarageType',\n",
    "'GarageQual',\n",
    "'GarageFinish',\n",
    "'GarageYrBlt',\n",
    "'MasVnrType',\n",
    "'BsmtExposure',\n",
    "'BsmtFinType2',\n",
    "'BsmtCond',\n",
    "'BsmtQual',\n",
    "'BsmtFinType1'\n",
    "]\n",
    "\n",
    "filled[cols] = filled[cols].fillna(value='None')\n"
   ]
  },
  {
   "cell_type": "code",
   "execution_count": 6,
   "metadata": {},
   "outputs": [],
   "source": [
    "## Data Visualization starts here\n",
    "viz = filled.copy()"
   ]
  },
  {
   "cell_type": "code",
   "execution_count": 7,
   "metadata": {},
   "outputs": [],
   "source": [
    "import seaborn as sns\n",
    "import matplotlib.pyplot as plt"
   ]
  },
  {
   "cell_type": "code",
   "execution_count": 8,
   "metadata": {},
   "outputs": [
    {
     "data": {
      "text/plain": [
       "(1460, 81)"
      ]
     },
     "execution_count": 8,
     "metadata": {},
     "output_type": "execute_result"
    }
   ],
   "source": [
    "viz.shape\n",
    "# How many observations and variables do we have?"
   ]
  },
  {
   "cell_type": "code",
   "execution_count": 9,
   "metadata": {
    "scrolled": true
   },
   "outputs": [
    {
     "data": {
      "text/plain": [
       "<matplotlib.lines.Line2D at 0x1a1fcc4e48>"
      ]
     },
     "execution_count": 9,
     "metadata": {},
     "output_type": "execute_result"
    },
    {
     "data": {
      "image/png": "[encoded data removed]",
      "text/plain": [
       "<Figure size 504x360 with 1 Axes>"
      ]
     },
     "metadata": {
      "needs_background": "light"
     },
     "output_type": "display_data"
    }
   ],
   "source": [
    "viz['SalePrice'].plot(kind='hist', bins=30, title='Sale Price Histogram', figsize=[7,5])\n",
    "plt.axvline(viz.SalePrice.mean(), color='r', label='Mean')\n",
    "plt.axvline(viz.SalePrice.median(), color='b', label='Median')\n",
    "plt.axvline(viz.SalePrice.quantile(.25), color='y', label='25% Quantile')\n",
    "plt.axvline(viz.SalePrice.quantile(.75), color='y', label='75% Quantile')\n",
    "# Distribution of Sale Price"
   ]
  },
  {
   "cell_type": "code",
   "execution_count": 10,
   "metadata": {},
   "outputs": [
    {
     "name": "stdout",
     "output_type": "stream",
     "text": [
      "The cheapest house costs $34900 and the most expensive one costs $755000\n"
     ]
    }
   ],
   "source": [
    "# Min and max of SalePrice\n",
    "print(\"The cheapest house costs ${} and the most expensive one costs ${}\".format(viz.SalePrice.min(), viz.SalePrice.max()))"
   ]
  },
  {
   "cell_type": "code",
   "execution_count": 11,
   "metadata": {
    "scrolled": false
   },
   "outputs": [
    {
     "data": {
      "text/plain": [
       "count      1460.000000\n",
       "mean     180921.195890\n",
       "std       79442.502883\n",
       "min       34900.000000\n",
       "25%      129975.000000\n",
       "50%      163000.000000\n",
       "75%      214000.000000\n",
       "max      755000.000000\n",
       "Name: SalePrice, dtype: float64"
      ]
     },
     "execution_count": 11,
     "metadata": {},
     "output_type": "execute_result"
    }
   ],
   "source": [
    "viz.SalePrice.describe()"
   ]
  },
  {
   "cell_type": "code",
   "execution_count": 12,
   "metadata": {},
   "outputs": [],
   "source": [
    "# Separate variables into categorical and numerical for easier analysis\n",
    "\n",
    "categorical_cols = []\n",
    "numerical_cols = []\n",
    "\n",
    "for index, value in viz.dtypes.iteritems():\n",
    "    if value == object:\n",
    "        categorical_cols.append(index)\n",
    "    else:\n",
    "        numerical_cols.append(index)"
   ]
  },
  {
   "cell_type": "code",
   "execution_count": 13,
   "metadata": {},
   "outputs": [
    {
     "name": "stdout",
     "output_type": "stream",
     "text": [
      "44 37\n"
     ]
    }
   ],
   "source": [
    "print(len(categorical_cols), len(numerical_cols))"
   ]
  },
  {
   "cell_type": "code",
   "execution_count": 14,
   "metadata": {},
   "outputs": [],
   "source": [
    "continuous_cols = []\n",
    "discrete_cols = []\n",
    "\n",
    "\n",
    "for col in numerical_cols:\n",
    "    sr = pd.Series(viz[col])\n",
    "    \n",
    "    # If there are more than 15 unique values in the variable, we can assume it's continuous\n",
    "    if len(sr.unique()) > 15:\n",
    "        continuous_cols.append(col)\n",
    "    else:\n",
    "        discrete_cols.append(col)"
   ]
  },
  {
   "cell_type": "code",
   "execution_count": 15,
   "metadata": {},
   "outputs": [
    {
     "name": "stdout",
     "output_type": "stream",
     "text": [
      "22 15\n"
     ]
    }
   ],
   "source": [
    "print(len(continuous_cols), len(discrete_cols))"
   ]
  },
  {
   "cell_type": "code",
   "execution_count": 16,
   "metadata": {},
   "outputs": [],
   "source": [
    "corrMatrix = viz[numerical_cols].corr()"
   ]
  },
  {
   "cell_type": "code",
   "execution_count": 17,
   "metadata": {},
   "outputs": [
    {
     "data": {
      "text/html": [
       "<div>\n",
       "<style scoped>\n",
       "    .dataframe tbody tr th:only-of-type {\n",
       "        vertical-align: middle;\n",
       "    }\n",
       "\n",
       "    .dataframe tbody tr th {\n",
       "        vertical-align: top;\n",
       "    }\n",
       "\n",
       "    .dataframe thead th {\n",
       "        text-align: right;\n",
       "    }\n",
       "</style>\n",
       "<table border=\"1\" class=\"dataframe\">\n",
       "  <thead>\n",
       "    <tr style=\"text-align: right;\">\n",
       "      <th></th>\n",
       "      <th>OverallQual</th>\n",
       "      <th>YearBuilt</th>\n",
       "      <th>YearRemodAdd</th>\n",
       "      <th>BsmtFinSF1</th>\n",
       "      <th>TotalBsmtSF</th>\n",
       "      <th>1stFlrSF</th>\n",
       "      <th>2ndFlrSF</th>\n",
       "      <th>GrLivArea</th>\n",
       "      <th>BsmtFullBath</th>\n",
       "      <th>FullBath</th>\n",
       "      <th>HalfBath</th>\n",
       "      <th>BedroomAbvGr</th>\n",
       "      <th>TotRmsAbvGrd</th>\n",
       "      <th>GarageCars</th>\n",
       "      <th>GarageArea</th>\n",
       "      <th>SalePrice</th>\n",
       "    </tr>\n",
       "  </thead>\n",
       "  <tbody>\n",
       "    <tr>\n",
       "      <th>OverallQual</th>\n",
       "      <td>NaN</td>\n",
       "      <td>0.572323</td>\n",
       "      <td>0.550684</td>\n",
       "      <td>NaN</td>\n",
       "      <td>0.537808</td>\n",
       "      <td>NaN</td>\n",
       "      <td>NaN</td>\n",
       "      <td>0.593007</td>\n",
       "      <td>NaN</td>\n",
       "      <td>0.550600</td>\n",
       "      <td>NaN</td>\n",
       "      <td>NaN</td>\n",
       "      <td>NaN</td>\n",
       "      <td>0.600671</td>\n",
       "      <td>0.562022</td>\n",
       "      <td>0.790982</td>\n",
       "    </tr>\n",
       "    <tr>\n",
       "      <th>YearBuilt</th>\n",
       "      <td>0.572323</td>\n",
       "      <td>NaN</td>\n",
       "      <td>0.592855</td>\n",
       "      <td>NaN</td>\n",
       "      <td>NaN</td>\n",
       "      <td>NaN</td>\n",
       "      <td>NaN</td>\n",
       "      <td>NaN</td>\n",
       "      <td>NaN</td>\n",
       "      <td>NaN</td>\n",
       "      <td>NaN</td>\n",
       "      <td>NaN</td>\n",
       "      <td>NaN</td>\n",
       "      <td>0.537850</td>\n",
       "      <td>NaN</td>\n",
       "      <td>0.522897</td>\n",
       "    </tr>\n",
       "    <tr>\n",
       "      <th>YearRemodAdd</th>\n",
       "      <td>0.550684</td>\n",
       "      <td>0.592855</td>\n",
       "      <td>NaN</td>\n",
       "      <td>NaN</td>\n",
       "      <td>NaN</td>\n",
       "      <td>NaN</td>\n",
       "      <td>NaN</td>\n",
       "      <td>NaN</td>\n",
       "      <td>NaN</td>\n",
       "      <td>NaN</td>\n",
       "      <td>NaN</td>\n",
       "      <td>NaN</td>\n",
       "      <td>NaN</td>\n",
       "      <td>NaN</td>\n",
       "      <td>NaN</td>\n",
       "      <td>0.507101</td>\n",
       "    </tr>\n",
       "    <tr>\n",
       "      <th>BsmtFinSF1</th>\n",
       "      <td>NaN</td>\n",
       "      <td>NaN</td>\n",
       "      <td>NaN</td>\n",
       "      <td>NaN</td>\n",
       "      <td>0.522396</td>\n",
       "      <td>NaN</td>\n",
       "      <td>NaN</td>\n",
       "      <td>NaN</td>\n",
       "      <td>0.649212</td>\n",
       "      <td>NaN</td>\n",
       "      <td>NaN</td>\n",
       "      <td>NaN</td>\n",
       "      <td>NaN</td>\n",
       "      <td>NaN</td>\n",
       "      <td>NaN</td>\n",
       "      <td>NaN</td>\n",
       "    </tr>\n",
       "    <tr>\n",
       "      <th>TotalBsmtSF</th>\n",
       "      <td>0.537808</td>\n",
       "      <td>NaN</td>\n",
       "      <td>NaN</td>\n",
       "      <td>0.522396</td>\n",
       "      <td>NaN</td>\n",
       "      <td>0.819530</td>\n",
       "      <td>NaN</td>\n",
       "      <td>NaN</td>\n",
       "      <td>NaN</td>\n",
       "      <td>NaN</td>\n",
       "      <td>NaN</td>\n",
       "      <td>NaN</td>\n",
       "      <td>NaN</td>\n",
       "      <td>NaN</td>\n",
       "      <td>NaN</td>\n",
       "      <td>0.613581</td>\n",
       "    </tr>\n",
       "    <tr>\n",
       "      <th>1stFlrSF</th>\n",
       "      <td>NaN</td>\n",
       "      <td>NaN</td>\n",
       "      <td>NaN</td>\n",
       "      <td>NaN</td>\n",
       "      <td>0.819530</td>\n",
       "      <td>NaN</td>\n",
       "      <td>NaN</td>\n",
       "      <td>0.566024</td>\n",
       "      <td>NaN</td>\n",
       "      <td>NaN</td>\n",
       "      <td>NaN</td>\n",
       "      <td>NaN</td>\n",
       "      <td>NaN</td>\n",
       "      <td>NaN</td>\n",
       "      <td>NaN</td>\n",
       "      <td>0.605852</td>\n",
       "    </tr>\n",
       "    <tr>\n",
       "      <th>2ndFlrSF</th>\n",
       "      <td>NaN</td>\n",
       "      <td>NaN</td>\n",
       "      <td>NaN</td>\n",
       "      <td>NaN</td>\n",
       "      <td>NaN</td>\n",
       "      <td>NaN</td>\n",
       "      <td>NaN</td>\n",
       "      <td>0.687501</td>\n",
       "      <td>NaN</td>\n",
       "      <td>NaN</td>\n",
       "      <td>0.609707</td>\n",
       "      <td>0.502901</td>\n",
       "      <td>0.616423</td>\n",
       "      <td>NaN</td>\n",
       "      <td>NaN</td>\n",
       "      <td>NaN</td>\n",
       "    </tr>\n",
       "    <tr>\n",
       "      <th>GrLivArea</th>\n",
       "      <td>0.593007</td>\n",
       "      <td>NaN</td>\n",
       "      <td>NaN</td>\n",
       "      <td>NaN</td>\n",
       "      <td>NaN</td>\n",
       "      <td>0.566024</td>\n",
       "      <td>0.687501</td>\n",
       "      <td>NaN</td>\n",
       "      <td>NaN</td>\n",
       "      <td>0.630012</td>\n",
       "      <td>NaN</td>\n",
       "      <td>0.521270</td>\n",
       "      <td>0.825489</td>\n",
       "      <td>NaN</td>\n",
       "      <td>NaN</td>\n",
       "      <td>0.708624</td>\n",
       "    </tr>\n",
       "    <tr>\n",
       "      <th>BsmtFullBath</th>\n",
       "      <td>NaN</td>\n",
       "      <td>NaN</td>\n",
       "      <td>NaN</td>\n",
       "      <td>0.649212</td>\n",
       "      <td>NaN</td>\n",
       "      <td>NaN</td>\n",
       "      <td>NaN</td>\n",
       "      <td>NaN</td>\n",
       "      <td>NaN</td>\n",
       "      <td>NaN</td>\n",
       "      <td>NaN</td>\n",
       "      <td>NaN</td>\n",
       "      <td>NaN</td>\n",
       "      <td>NaN</td>\n",
       "      <td>NaN</td>\n",
       "      <td>NaN</td>\n",
       "    </tr>\n",
       "    <tr>\n",
       "      <th>FullBath</th>\n",
       "      <td>0.550600</td>\n",
       "      <td>NaN</td>\n",
       "      <td>NaN</td>\n",
       "      <td>NaN</td>\n",
       "      <td>NaN</td>\n",
       "      <td>NaN</td>\n",
       "      <td>NaN</td>\n",
       "      <td>0.630012</td>\n",
       "      <td>NaN</td>\n",
       "      <td>NaN</td>\n",
       "      <td>NaN</td>\n",
       "      <td>NaN</td>\n",
       "      <td>0.554784</td>\n",
       "      <td>NaN</td>\n",
       "      <td>NaN</td>\n",
       "      <td>0.560664</td>\n",
       "    </tr>\n",
       "    <tr>\n",
       "      <th>HalfBath</th>\n",
       "      <td>NaN</td>\n",
       "      <td>NaN</td>\n",
       "      <td>NaN</td>\n",
       "      <td>NaN</td>\n",
       "      <td>NaN</td>\n",
       "      <td>NaN</td>\n",
       "      <td>0.609707</td>\n",
       "      <td>NaN</td>\n",
       "      <td>NaN</td>\n",
       "      <td>NaN</td>\n",
       "      <td>NaN</td>\n",
       "      <td>NaN</td>\n",
       "      <td>NaN</td>\n",
       "      <td>NaN</td>\n",
       "      <td>NaN</td>\n",
       "      <td>NaN</td>\n",
       "    </tr>\n",
       "    <tr>\n",
       "      <th>BedroomAbvGr</th>\n",
       "      <td>NaN</td>\n",
       "      <td>NaN</td>\n",
       "      <td>NaN</td>\n",
       "      <td>NaN</td>\n",
       "      <td>NaN</td>\n",
       "      <td>NaN</td>\n",
       "      <td>0.502901</td>\n",
       "      <td>0.521270</td>\n",
       "      <td>NaN</td>\n",
       "      <td>NaN</td>\n",
       "      <td>NaN</td>\n",
       "      <td>NaN</td>\n",
       "      <td>0.676620</td>\n",
       "      <td>NaN</td>\n",
       "      <td>NaN</td>\n",
       "      <td>NaN</td>\n",
       "    </tr>\n",
       "    <tr>\n",
       "      <th>TotRmsAbvGrd</th>\n",
       "      <td>NaN</td>\n",
       "      <td>NaN</td>\n",
       "      <td>NaN</td>\n",
       "      <td>NaN</td>\n",
       "      <td>NaN</td>\n",
       "      <td>NaN</td>\n",
       "      <td>0.616423</td>\n",
       "      <td>0.825489</td>\n",
       "      <td>NaN</td>\n",
       "      <td>0.554784</td>\n",
       "      <td>NaN</td>\n",
       "      <td>0.676620</td>\n",
       "      <td>NaN</td>\n",
       "      <td>NaN</td>\n",
       "      <td>NaN</td>\n",
       "      <td>0.533723</td>\n",
       "    </tr>\n",
       "    <tr>\n",
       "      <th>GarageCars</th>\n",
       "      <td>0.600671</td>\n",
       "      <td>0.537850</td>\n",
       "      <td>NaN</td>\n",
       "      <td>NaN</td>\n",
       "      <td>NaN</td>\n",
       "      <td>NaN</td>\n",
       "      <td>NaN</td>\n",
       "      <td>NaN</td>\n",
       "      <td>NaN</td>\n",
       "      <td>NaN</td>\n",
       "      <td>NaN</td>\n",
       "      <td>NaN</td>\n",
       "      <td>NaN</td>\n",
       "      <td>NaN</td>\n",
       "      <td>0.882475</td>\n",
       "      <td>0.640409</td>\n",
       "    </tr>\n",
       "    <tr>\n",
       "      <th>GarageArea</th>\n",
       "      <td>0.562022</td>\n",
       "      <td>NaN</td>\n",
       "      <td>NaN</td>\n",
       "      <td>NaN</td>\n",
       "      <td>NaN</td>\n",
       "      <td>NaN</td>\n",
       "      <td>NaN</td>\n",
       "      <td>NaN</td>\n",
       "      <td>NaN</td>\n",
       "      <td>NaN</td>\n",
       "      <td>NaN</td>\n",
       "      <td>NaN</td>\n",
       "      <td>NaN</td>\n",
       "      <td>0.882475</td>\n",
       "      <td>NaN</td>\n",
       "      <td>0.623431</td>\n",
       "    </tr>\n",
       "    <tr>\n",
       "      <th>SalePrice</th>\n",
       "      <td>0.790982</td>\n",
       "      <td>0.522897</td>\n",
       "      <td>0.507101</td>\n",
       "      <td>NaN</td>\n",
       "      <td>0.613581</td>\n",
       "      <td>0.605852</td>\n",
       "      <td>NaN</td>\n",
       "      <td>0.708624</td>\n",
       "      <td>NaN</td>\n",
       "      <td>0.560664</td>\n",
       "      <td>NaN</td>\n",
       "      <td>NaN</td>\n",
       "      <td>0.533723</td>\n",
       "      <td>0.640409</td>\n",
       "      <td>0.623431</td>\n",
       "      <td>NaN</td>\n",
       "    </tr>\n",
       "  </tbody>\n",
       "</table>\n",
       "</div>"
      ],
      "text/plain": [
       "              OverallQual  YearBuilt  YearRemodAdd  BsmtFinSF1  TotalBsmtSF  \\\n",
       "OverallQual           NaN   0.572323      0.550684         NaN     0.537808   \n",
       "YearBuilt        0.572323        NaN      0.592855         NaN          NaN   \n",
       "YearRemodAdd     0.550684   0.592855           NaN         NaN          NaN   \n",
       "BsmtFinSF1            NaN        NaN           NaN         NaN     0.522396   \n",
       "TotalBsmtSF      0.537808        NaN           NaN    0.522396          NaN   \n",
       "1stFlrSF              NaN        NaN           NaN         NaN     0.819530   \n",
       "2ndFlrSF              NaN        NaN           NaN         NaN          NaN   \n",
       "GrLivArea        0.593007        NaN           NaN         NaN          NaN   \n",
       "BsmtFullBath          NaN        NaN           NaN    0.649212          NaN   \n",
       "FullBath         0.550600        NaN           NaN         NaN          NaN   \n",
       "HalfBath              NaN        NaN           NaN         NaN          NaN   \n",
       "BedroomAbvGr          NaN        NaN           NaN         NaN          NaN   \n",
       "TotRmsAbvGrd          NaN        NaN           NaN         NaN          NaN   \n",
       "GarageCars       0.600671   0.537850           NaN         NaN          NaN   \n",
       "GarageArea       0.562022        NaN           NaN         NaN          NaN   \n",
       "SalePrice        0.790982   0.522897      0.507101         NaN     0.613581   \n",
       "\n",
       "              1stFlrSF  2ndFlrSF  GrLivArea  BsmtFullBath  FullBath  HalfBath  \\\n",
       "OverallQual        NaN       NaN   0.593007           NaN  0.550600       NaN   \n",
       "YearBuilt          NaN       NaN        NaN           NaN       NaN       NaN   \n",
       "YearRemodAdd       NaN       NaN        NaN           NaN       NaN       NaN   \n",
       "BsmtFinSF1         NaN       NaN        NaN      0.649212       NaN       NaN   \n",
       "TotalBsmtSF   0.819530       NaN        NaN           NaN       NaN       NaN   \n",
       "1stFlrSF           NaN       NaN   0.566024           NaN       NaN       NaN   \n",
       "2ndFlrSF           NaN       NaN   0.687501           NaN       NaN  0.609707   \n",
       "GrLivArea     0.566024  0.687501        NaN           NaN  0.630012       NaN   \n",
       "BsmtFullBath       NaN       NaN        NaN           NaN       NaN       NaN   \n",
       "FullBath           NaN       NaN   0.630012           NaN       NaN       NaN   \n",
       "HalfBath           NaN  0.609707        NaN           NaN       NaN       NaN   \n",
       "BedroomAbvGr       NaN  0.502901   0.521270           NaN       NaN       NaN   \n",
       "TotRmsAbvGrd       NaN  0.616423   0.825489           NaN  0.554784       NaN   \n",
       "GarageCars         NaN       NaN        NaN           NaN       NaN       NaN   \n",
       "GarageArea         NaN       NaN        NaN           NaN       NaN       NaN   \n",
       "SalePrice     0.605852       NaN   0.708624           NaN  0.560664       NaN   \n",
       "\n",
       "              BedroomAbvGr  TotRmsAbvGrd  GarageCars  GarageArea  SalePrice  \n",
       "OverallQual            NaN           NaN    0.600671    0.562022   0.790982  \n",
       "YearBuilt              NaN           NaN    0.537850         NaN   0.522897  \n",
       "YearRemodAdd           NaN           NaN         NaN         NaN   0.507101  \n",
       "BsmtFinSF1             NaN           NaN         NaN         NaN        NaN  \n",
       "TotalBsmtSF            NaN           NaN         NaN         NaN   0.613581  \n",
       "1stFlrSF               NaN           NaN         NaN         NaN   0.605852  \n",
       "2ndFlrSF          0.502901      0.616423         NaN         NaN        NaN  \n",
       "GrLivArea         0.521270      0.825489         NaN         NaN   0.708624  \n",
       "BsmtFullBath           NaN           NaN         NaN         NaN        NaN  \n",
       "FullBath               NaN      0.554784         NaN         NaN   0.560664  \n",
       "HalfBath               NaN           NaN         NaN         NaN        NaN  \n",
       "BedroomAbvGr           NaN      0.676620         NaN         NaN        NaN  \n",
       "TotRmsAbvGrd      0.676620           NaN         NaN         NaN   0.533723  \n",
       "GarageCars             NaN           NaN         NaN    0.882475   0.640409  \n",
       "GarageArea             NaN           NaN    0.882475         NaN   0.623431  \n",
       "SalePrice              NaN      0.533723    0.640409    0.623431        NaN  "
      ]
     },
     "execution_count": 17,
     "metadata": {},
     "output_type": "execute_result"
    }
   ],
   "source": [
    "corr_filtered = corrMatrix[((corrMatrix > 0.50) | (corrMatrix < -0.50)) & (corrMatrix != 1.0)].dropna(how='all', axis=1).dropna(how='all', axis=0)\n",
    "\n",
    "corr_filtered\n"
   ]
  },
  {
   "cell_type": "code",
   "execution_count": 18,
   "metadata": {},
   "outputs": [
    {
     "data": {
      "image/png": "[encoded data removed]",
      "text/plain": [
       "<Figure size 936x864 with 2 Axes>"
      ]
     },
     "metadata": {
      "needs_background": "light"
     },
     "output_type": "display_data"
    }
   ],
   "source": [
    "plt.subplots(figsize=(13,12))\n",
    "plt.tight_layout()\n",
    "_ = sns.heatmap(corr_filtered, annot=True)\n",
    "\n",
    "# This heatmaps shows the correlation of only the features that have more than .5 correlation.\n",
    "# The higher correlation features can be used to do PCA in the modeling step"
   ]
  },
  {
   "cell_type": "code",
   "execution_count": 19,
   "metadata": {},
   "outputs": [
    {
     "data": {
      "text/plain": [
       "OverallQual     0.790982\n",
       "YearBuilt       0.522897\n",
       "YearRemodAdd    0.507101\n",
       "TotalBsmtSF     0.613581\n",
       "1stFlrSF        0.605852\n",
       "GrLivArea       0.708624\n",
       "FullBath        0.560664\n",
       "TotRmsAbvGrd    0.533723\n",
       "GarageCars      0.640409\n",
       "GarageArea      0.623431\n",
       "Name: SalePrice, dtype: float64"
      ]
     },
     "execution_count": 19,
     "metadata": {},
     "output_type": "execute_result"
    }
   ],
   "source": [
    "# Get all variables with > .5 correlation with SalePrice\n",
    "\n",
    "salePrice_corr = corrMatrix[(corrMatrix > 0.50) & (corrMatrix != 1.0)].dropna(how='all', axis=1).dropna(how='all', axis=0).loc['SalePrice'].dropna()\n",
    "\n",
    "# These features could be a good candidate for a baseline model\n",
    "salePrice_corr"
   ]
  },
  {
   "cell_type": "code",
   "execution_count": 20,
   "metadata": {},
   "outputs": [],
   "source": [
    "high = salePrice_corr.index.to_list()"
   ]
  },
  {
   "cell_type": "code",
   "execution_count": 21,
   "metadata": {},
   "outputs": [],
   "source": [
    "# Categorical correlation"
   ]
  },
  {
   "cell_type": "code",
   "execution_count": 22,
   "metadata": {},
   "outputs": [],
   "source": [
    "from scipy.stats import chi2_contingency\n",
    "\n",
    "# Function to find cramers value for two categorical variables\n",
    "def cramers_v(x,y):\n",
    "    \"\"\"Function to find the cramers value for two categorical variables\"\"\"\n",
    "    confusion_matrix = pd.crosstab(x,y)\n",
    "    chi2 = chi2_contingency(confusion_matrix)[0]\n",
    "    n = confusion_matrix.sum().sum()\n",
    "    r,k = confusion_matrix.shape\n",
    "    return (chi2/(n*min((k-1),(r-1))))**.5\n",
    "    \n",
    "# List of categorical columns from before\n",
    "categorical_cols\n",
    "with_cat = viz.copy()\n",
    "\n",
    "# Transform sale price into a categorical variable\n",
    "with_cat['saleprice_category'] = pd.cut(viz['SalePrice'], 5)\n",
    "\n",
    "# Create a dictionary that will show cramers value of target with all the other categorical variables\n",
    "category_target_cramerv = {}\n",
    "\n",
    "# Iterate through the cols  \n",
    "for col in categorical_cols:\n",
    "    x = with_cat[col]\n",
    "    y = with_cat['saleprice_category']\n",
    "    category_target_cramerv[col+'/saleprice'] = cramers_v(x,y)\n",
    "\n",
    "# Sort the category_target_cramerv so you get the high correlations on top\n",
    "category_target_cramerv = sorted(category_target_cramerv.items(), key = lambda x : x[1], reverse=True)"
   ]
  },
  {
   "cell_type": "code",
   "execution_count": 23,
   "metadata": {},
   "outputs": [
    {
     "data": {
      "text/plain": [
       "[('ExterQual/saleprice', 0.44569856738553454),\n",
       " ('KitchenQual/saleprice', 0.42997279399618005),\n",
       " ('Neighborhood/saleprice', 0.42830205969477086),\n",
       " ('GarageYrBlt/saleprice', 0.3771137980119871),\n",
       " ('BsmtQual/saleprice', 0.37550674643419657),\n",
       " ('GarageFinish/saleprice', 0.34069750943028415),\n",
       " ('Foundation/saleprice', 0.26783475834637094),\n",
       " ('FireplaceQu/saleprice', 0.26365334596519735),\n",
       " ('GarageType/saleprice', 0.257567306861602),\n",
       " ('Exterior2nd/saleprice', 0.2448961318508167),\n",
       " ('BsmtFinType1/saleprice', 0.233384501653012),\n",
       " ('Exterior1st/saleprice', 0.23206214095222713),\n",
       " ('MasVnrType/saleprice', 0.228124697840127),\n",
       " ('HeatingQC/saleprice', 0.2226059068617394),\n",
       " ('PoolQC/saleprice', 0.2061451847908341),\n",
       " ('CentralAir/saleprice', 0.19442548873985072),\n",
       " ('SaleType/saleprice', 0.187106774354361),\n",
       " ('BsmtExposure/saleprice', 0.18551777021039623),\n",
       " ('SaleCondition/saleprice', 0.18191883341487636),\n",
       " ('LotShape/saleprice', 0.18112027214176532),\n",
       " ('HouseStyle/saleprice', 0.17512221809564202),\n",
       " ('MSZoning/saleprice', 0.16784580989090658),\n",
       " ('GarageQual/saleprice', 0.15822767863262188),\n",
       " ('RoofMatl/saleprice', 0.1379806186644013),\n",
       " ('PavedDrive/saleprice', 0.13580544220374452),\n",
       " ('Fence/saleprice', 0.12339201793929615),\n",
       " ('RoofStyle/saleprice', 0.12084741240213225),\n",
       " ('GarageCond/saleprice', 0.1165190020280432),\n",
       " ('Condition1/saleprice', 0.11569075174251661),\n",
       " ('Electrical/saleprice', 0.10894761603257726),\n",
       " ('Alley/saleprice', 0.10843781301997109),\n",
       " ('BldgType/saleprice', 0.09915206613705169),\n",
       " ('BsmtFinType2/saleprice', 0.0982537004480948),\n",
       " ('LandContour/saleprice', 0.09678554902669913),\n",
       " ('BsmtCond/saleprice', 0.09348305208886265),\n",
       " ('LotConfig/saleprice', 0.0887057743578192),\n",
       " ('Functional/saleprice', 0.08320492174627456),\n",
       " ('Condition2/saleprice', 0.08180922885576353),\n",
       " ('ExterCond/saleprice', 0.08061014447772732),\n",
       " ('LandSlope/saleprice', 0.05474226301737914),\n",
       " ('Heating/saleprice', 0.04172832313869604),\n",
       " ('MiscFeature/saleprice', 0.04140888919382636),\n",
       " ('Utilities/saleprice', 0.021528854564369357),\n",
       " ('Street/saleprice', 0.01629272294081821)]"
      ]
     },
     "execution_count": 23,
     "metadata": {},
     "output_type": "execute_result"
    }
   ],
   "source": [
    "category_target_cramerv\n",
    "\n",
    "# This shows the categorical features that have the highest correlation with SalePrice"
   ]
  },
  {
   "cell_type": "code",
   "execution_count": 24,
   "metadata": {},
   "outputs": [],
   "source": [
    "# Preparing the data for testing the LR models\n",
    "\n",
    "from sklearn.model_selection import train_test_split \n",
    "from sklearn.linear_model import LinearRegression\n",
    "from sklearn import metrics\n",
    "\n",
    "# Using only the highest correlated variable, OverallQual\n",
    "X = viz['OverallQual'].values.reshape(-1,1)\n",
    "y = viz['SalePrice'].values.reshape(-1,1)"
   ]
  },
  {
   "cell_type": "code",
   "execution_count": 25,
   "metadata": {},
   "outputs": [],
   "source": [
    "X_train, X_test, y_train, y_test = train_test_split(X, y, test_size=0.2, random_state=42)"
   ]
  },
  {
   "cell_type": "code",
   "execution_count": 26,
   "metadata": {
    "scrolled": true
   },
   "outputs": [
    {
     "data": {
      "text/plain": [
       "LinearRegression(copy_X=True, fit_intercept=True, n_jobs=None, normalize=False)"
      ]
     },
     "execution_count": 26,
     "metadata": {},
     "output_type": "execute_result"
    }
   ],
   "source": [
    "\n",
    "regressor = LinearRegression()  \n",
    "regressor.fit(X_train, y_train) #training the algorithm"
   ]
  },
  {
   "cell_type": "code",
   "execution_count": 27,
   "metadata": {},
   "outputs": [],
   "source": [
    "prediction_space = np.linspace(min(X), max(X)).reshape(-1,1)"
   ]
  },
  {
   "cell_type": "code",
   "execution_count": 28,
   "metadata": {},
   "outputs": [],
   "source": [
    "# What does it mean we predict the prediction space here?\n",
    "y_pred = regressor.predict(prediction_space)"
   ]
  },
  {
   "cell_type": "code",
   "execution_count": 29,
   "metadata": {},
   "outputs": [
    {
     "data": {
      "image/png": "[encoded data removed]",
      "text/plain": [
       "<Figure size 432x288 with 1 Axes>"
      ]
     },
     "metadata": {
      "needs_background": "light"
     },
     "output_type": "display_data"
    }
   ],
   "source": [
    "plt.scatter(X, y, color='black')\n",
    "plt.plot(prediction_space, y_pred, color='red', linewidth=3)\n",
    "plt.show()"
   ]
  },
  {
   "cell_type": "code",
   "execution_count": 30,
   "metadata": {},
   "outputs": [
    {
     "data": {
      "text/plain": [
       "0.6504677778896862"
      ]
     },
     "execution_count": 30,
     "metadata": {},
     "output_type": "execute_result"
    }
   ],
   "source": [
    "# This is the score of the LR with just this one variable\n",
    "regressor.score(X_test, y_test)"
   ]
  },
  {
   "cell_type": "code",
   "execution_count": 58,
   "metadata": {},
   "outputs": [
    {
     "data": {
      "text/plain": [
       "0.6170962665508342"
      ]
     },
     "execution_count": 58,
     "metadata": {},
     "output_type": "execute_result"
    }
   ],
   "source": [
    "# This is the training score\n",
    "regressor.score(X_train, y_train)\n",
    "\n",
    "# Underfitting with this single variable"
   ]
  },
  {
   "cell_type": "code",
   "execution_count": 31,
   "metadata": {},
   "outputs": [],
   "source": [
    "## Now we create another linear regression with all the Numeric variables, for comparison\n",
    "\n",
    "X1 = viz[numerical_cols].drop('SalePrice', axis=1).values\n",
    "y1 = viz['SalePrice'].values"
   ]
  },
  {
   "cell_type": "code",
   "execution_count": 32,
   "metadata": {},
   "outputs": [
    {
     "data": {
      "text/plain": [
       "((1460, 36), (1460,))"
      ]
     },
     "execution_count": 32,
     "metadata": {},
     "output_type": "execute_result"
    }
   ],
   "source": [
    "X1.shape, y1.shape"
   ]
  },
  {
   "cell_type": "code",
   "execution_count": 33,
   "metadata": {
    "scrolled": true
   },
   "outputs": [],
   "source": [
    "X1_train, X1_test, y1_train, y1_test = train_test_split(X1, y1, test_size=0.2, random_state=42)"
   ]
  },
  {
   "cell_type": "code",
   "execution_count": 34,
   "metadata": {},
   "outputs": [
    {
     "data": {
      "text/plain": [
       "LinearRegression(copy_X=True, fit_intercept=True, n_jobs=None, normalize=False)"
      ]
     },
     "execution_count": 34,
     "metadata": {},
     "output_type": "execute_result"
    }
   ],
   "source": [
    "reg1 = LinearRegression()  \n",
    "reg1.fit(X1_train, y1_train) "
   ]
  },
  {
   "cell_type": "code",
   "execution_count": 35,
   "metadata": {
    "scrolled": false
   },
   "outputs": [],
   "source": [
    "# Why do I get an error here?\n",
    "y_pred1 = reg1.predict(X1_test)"
   ]
  },
  {
   "cell_type": "code",
   "execution_count": 36,
   "metadata": {},
   "outputs": [
    {
     "data": {
      "text/plain": [
       "0.8259003861113938"
      ]
     },
     "execution_count": 36,
     "metadata": {},
     "output_type": "execute_result"
    }
   ],
   "source": [
    "reg1.score(X1_test, y1_test)"
   ]
  },
  {
   "cell_type": "code",
   "execution_count": 59,
   "metadata": {},
   "outputs": [
    {
     "data": {
      "text/plain": [
       "0.8056859784150238"
      ]
     },
     "execution_count": 59,
     "metadata": {},
     "output_type": "execute_result"
    }
   ],
   "source": [
    "reg1.score(X1_train, y1_train)\n",
    "\n",
    "# Pretty close to each other, not overfitting"
   ]
  },
  {
   "cell_type": "code",
   "execution_count": 37,
   "metadata": {},
   "outputs": [
    {
     "data": {
      "text/plain": [
       "0.7968483304281101"
      ]
     },
     "execution_count": 37,
     "metadata": {},
     "output_type": "execute_result"
    }
   ],
   "source": [
    "# Now we create a third one with the highest correlated values\n",
    "\n",
    "X2 = viz[high].values\n",
    "y2 = viz['SalePrice'].values\n",
    "\n",
    "X2_train, X2_test, y2_train, y2_test = train_test_split(X2, y2, test_size=0.2, random_state=42)\n",
    "\n",
    "reg2 = LinearRegression()  \n",
    "reg2.fit(X2_train, y2_train) \n",
    "\n",
    "reg2.score(X2_test, y2_test)"
   ]
  },
  {
   "cell_type": "code",
   "execution_count": 60,
   "metadata": {},
   "outputs": [
    {
     "data": {
      "text/plain": [
       "0.7647556828674686"
      ]
     },
     "execution_count": 60,
     "metadata": {},
     "output_type": "execute_result"
    }
   ],
   "source": [
    "reg2.score(X2_train, y2_train)\n",
    "# Pretty close to each other, not overfitting"
   ]
  },
  {
   "cell_type": "code",
   "execution_count": 38,
   "metadata": {},
   "outputs": [],
   "source": [
    "y_pred2 = reg2.predict(X2_test)"
   ]
  },
  {
   "cell_type": "code",
   "execution_count": 39,
   "metadata": {},
   "outputs": [],
   "source": [
    "# Lastly a fourth one with some PCA-selected variables"
   ]
  },
  {
   "cell_type": "code",
   "execution_count": 40,
   "metadata": {},
   "outputs": [],
   "source": [
    "# Getting the variables correlated between .7 and .9\n",
    "corr_high = corrMatrix[(corrMatrix > 0.70) & (corrMatrix < 0.90) & (corrMatrix != 1.0)].drop('SalePrice').drop('SalePrice', axis=1).dropna(how='all', axis=1).dropna(how='all', axis=0)\n"
   ]
  },
  {
   "cell_type": "code",
   "execution_count": 41,
   "metadata": {},
   "outputs": [
    {
     "data": {
      "text/html": [
       "<div>\n",
       "<style scoped>\n",
       "    .dataframe tbody tr th:only-of-type {\n",
       "        vertical-align: middle;\n",
       "    }\n",
       "\n",
       "    .dataframe tbody tr th {\n",
       "        vertical-align: top;\n",
       "    }\n",
       "\n",
       "    .dataframe thead th {\n",
       "        text-align: right;\n",
       "    }\n",
       "</style>\n",
       "<table border=\"1\" class=\"dataframe\">\n",
       "  <thead>\n",
       "    <tr style=\"text-align: right;\">\n",
       "      <th></th>\n",
       "      <th>TotalBsmtSF</th>\n",
       "      <th>1stFlrSF</th>\n",
       "      <th>GrLivArea</th>\n",
       "      <th>TotRmsAbvGrd</th>\n",
       "      <th>GarageCars</th>\n",
       "      <th>GarageArea</th>\n",
       "    </tr>\n",
       "  </thead>\n",
       "  <tbody>\n",
       "    <tr>\n",
       "      <th>TotalBsmtSF</th>\n",
       "      <td>NaN</td>\n",
       "      <td>0.81953</td>\n",
       "      <td>NaN</td>\n",
       "      <td>NaN</td>\n",
       "      <td>NaN</td>\n",
       "      <td>NaN</td>\n",
       "    </tr>\n",
       "    <tr>\n",
       "      <th>1stFlrSF</th>\n",
       "      <td>0.81953</td>\n",
       "      <td>NaN</td>\n",
       "      <td>NaN</td>\n",
       "      <td>NaN</td>\n",
       "      <td>NaN</td>\n",
       "      <td>NaN</td>\n",
       "    </tr>\n",
       "    <tr>\n",
       "      <th>GrLivArea</th>\n",
       "      <td>NaN</td>\n",
       "      <td>NaN</td>\n",
       "      <td>NaN</td>\n",
       "      <td>0.825489</td>\n",
       "      <td>NaN</td>\n",
       "      <td>NaN</td>\n",
       "    </tr>\n",
       "    <tr>\n",
       "      <th>TotRmsAbvGrd</th>\n",
       "      <td>NaN</td>\n",
       "      <td>NaN</td>\n",
       "      <td>0.825489</td>\n",
       "      <td>NaN</td>\n",
       "      <td>NaN</td>\n",
       "      <td>NaN</td>\n",
       "    </tr>\n",
       "    <tr>\n",
       "      <th>GarageCars</th>\n",
       "      <td>NaN</td>\n",
       "      <td>NaN</td>\n",
       "      <td>NaN</td>\n",
       "      <td>NaN</td>\n",
       "      <td>NaN</td>\n",
       "      <td>0.882475</td>\n",
       "    </tr>\n",
       "    <tr>\n",
       "      <th>GarageArea</th>\n",
       "      <td>NaN</td>\n",
       "      <td>NaN</td>\n",
       "      <td>NaN</td>\n",
       "      <td>NaN</td>\n",
       "      <td>0.882475</td>\n",
       "      <td>NaN</td>\n",
       "    </tr>\n",
       "  </tbody>\n",
       "</table>\n",
       "</div>"
      ],
      "text/plain": [
       "              TotalBsmtSF  1stFlrSF  GrLivArea  TotRmsAbvGrd  GarageCars  \\\n",
       "TotalBsmtSF           NaN   0.81953        NaN           NaN         NaN   \n",
       "1stFlrSF          0.81953       NaN        NaN           NaN         NaN   \n",
       "GrLivArea             NaN       NaN        NaN      0.825489         NaN   \n",
       "TotRmsAbvGrd          NaN       NaN   0.825489           NaN         NaN   \n",
       "GarageCars            NaN       NaN        NaN           NaN         NaN   \n",
       "GarageArea            NaN       NaN        NaN           NaN    0.882475   \n",
       "\n",
       "              GarageArea  \n",
       "TotalBsmtSF          NaN  \n",
       "1stFlrSF             NaN  \n",
       "GrLivArea            NaN  \n",
       "TotRmsAbvGrd         NaN  \n",
       "GarageCars      0.882475  \n",
       "GarageArea           NaN  "
      ]
     },
     "execution_count": 41,
     "metadata": {},
     "output_type": "execute_result"
    }
   ],
   "source": [
    "corr_high"
   ]
  },
  {
   "cell_type": "code",
   "execution_count": 42,
   "metadata": {},
   "outputs": [],
   "source": [
    "cols_high = corr_high.columns.to_list()"
   ]
  },
  {
   "cell_type": "code",
   "execution_count": 43,
   "metadata": {},
   "outputs": [
    {
     "data": {
      "text/plain": [
       "3"
      ]
     },
     "execution_count": 43,
     "metadata": {},
     "output_type": "execute_result"
    }
   ],
   "source": [
    "# Scale values\n",
    "from sklearn.preprocessing import StandardScaler\n",
    "x_corr_data1 = viz[['TotalBsmtSF', '1stFlrSF']]\n",
    "x_corr_data2 = viz[['GrLivArea', 'TotRmsAbvGrd']]\n",
    "x_corr_data3 = viz[['GarageCars', 'GarageArea']]\n",
    "# Standardizing the features\n",
    "pairs = []\n",
    "for dat in [x_corr_data1, x_corr_data2, x_corr_data3]:\n",
    "    pairs.append(StandardScaler().fit_transform(dat))\n",
    "len(pairs)"
   ]
  },
  {
   "cell_type": "code",
   "execution_count": 44,
   "metadata": {},
   "outputs": [
    {
     "data": {
      "text/plain": [
       "3"
      ]
     },
     "execution_count": 44,
     "metadata": {},
     "output_type": "execute_result"
    }
   ],
   "source": [
    "# Execute PCA\n",
    "from sklearn.decomposition import PCA\n",
    "\n",
    "new_components = []\n",
    "for pair in pairs:\n",
    "    pca = PCA(n_components=1)\n",
    "    new_components.append(pca.fit_transform(pair))\n",
    "len(new_components)"
   ]
  },
  {
   "cell_type": "code",
   "execution_count": 45,
   "metadata": {},
   "outputs": [],
   "source": [
    "df_with_pca = viz[numerical_cols].drop(['SalePrice', 'TotalBsmtSF', '1stFlrSF', 'GrLivArea', 'TotRmsAbvGrd', 'GarageCars', 'GarageArea'], axis=1)\n",
    "\n",
    "for i, pca in enumerate(new_components):\n",
    "    comp = pca.flatten()\n",
    "    df_with_pca[f'pca{i}'] =  comp\n",
    "                        "
   ]
  },
  {
   "cell_type": "code",
   "execution_count": 46,
   "metadata": {},
   "outputs": [
    {
     "data": {
      "text/plain": [
       "Index(['Id', 'MSSubClass', 'LotFrontage', 'LotArea', 'OverallQual',\n",
       "       'OverallCond', 'YearBuilt', 'YearRemodAdd', 'MasVnrArea', 'BsmtFinSF1',\n",
       "       'BsmtFinSF2', 'BsmtUnfSF', '2ndFlrSF', 'LowQualFinSF', 'BsmtFullBath',\n",
       "       'BsmtHalfBath', 'FullBath', 'HalfBath', 'BedroomAbvGr', 'KitchenAbvGr',\n",
       "       'Fireplaces', 'WoodDeckSF', 'OpenPorchSF', 'EnclosedPorch', '3SsnPorch',\n",
       "       'ScreenPorch', 'PoolArea', 'MiscVal', 'MoSold', 'YrSold', 'pca0',\n",
       "       'pca1', 'pca2'],\n",
       "      dtype='object')"
      ]
     },
     "execution_count": 46,
     "metadata": {},
     "output_type": "execute_result"
    }
   ],
   "source": [
    "df_with_pca.columns"
   ]
  },
  {
   "cell_type": "code",
   "execution_count": 47,
   "metadata": {},
   "outputs": [
    {
     "data": {
      "text/plain": [
       "0.8257326239138184"
      ]
     },
     "execution_count": 47,
     "metadata": {},
     "output_type": "execute_result"
    }
   ],
   "source": [
    "# Run the linear regression with the new PCA numerical columns\n",
    "\n",
    "\n",
    "X3 = df_with_pca.values\n",
    "y3 = viz['SalePrice'].values\n",
    "\n",
    "X3_train, X3_test, y3_train, y3_test = train_test_split(X3, y3, test_size=0.2, random_state=42)\n",
    "\n",
    "reg3 = LinearRegression()  \n",
    "reg3.fit(X3_train, y3_train) \n",
    "\n",
    "reg3.score(X3_test, y3_test)"
   ]
  },
  {
   "cell_type": "code",
   "execution_count": 61,
   "metadata": {},
   "outputs": [
    {
     "data": {
      "text/plain": [
       "0.8049832120407299"
      ]
     },
     "execution_count": 61,
     "metadata": {},
     "output_type": "execute_result"
    }
   ],
   "source": [
    "reg3.score(X3_train, y3_train)\n",
    "# Pretty close to each other, not overfitting"
   ]
  },
  {
   "cell_type": "code",
   "execution_count": 48,
   "metadata": {},
   "outputs": [],
   "source": [
    "y_pred3 = reg3.predict(X3_test)"
   ]
  },
  {
   "cell_type": "code",
   "execution_count": null,
   "metadata": {},
   "outputs": [],
   "source": []
  },
  {
   "cell_type": "code",
   "execution_count": 49,
   "metadata": {},
   "outputs": [],
   "source": [
    "# Finally we do either a Decision Tree or a Random Forest with those variables"
   ]
  }
 ],
 "metadata": {
  "hide_input": false,
  "kernelspec": {
   "display_name": "Python 3",
   "language": "python",
   "name": "python3"
  },
  "language_info": {
   "codemirror_mode": {
    "name": "ipython",
    "version": 3
   },
   "file_extension": ".py",
   "mimetype": "text/x-python",
   "name": "python",
   "nbconvert_exporter": "python",
   "pygments_lexer": "ipython3",
   "version": "3.7.3"
  }
 },
 "nbformat": 4,
 "nbformat_minor": 2
}
